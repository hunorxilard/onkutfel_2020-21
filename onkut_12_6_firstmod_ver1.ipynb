{
  "nbformat": 4,
  "nbformat_minor": 0,
  "metadata": {
    "colab": {
      "name": "Untitled0.ipynb",
      "provenance": [],
      "authorship_tag": "ABX9TyOOmKZKh67iGLuOwZYURoyS",
      "include_colab_link": true
    },
    "kernelspec": {
      "name": "python3",
      "display_name": "Python 3"
    }
  },
  "cells": [
    {
      "cell_type": "markdown",
      "metadata": {
        "id": "view-in-github",
        "colab_type": "text"
      },
      "source": [
        "<a href=\"https://colab.research.google.com/github/hunorxilard/onkutfel_2020-21/blob/szili_dolga/onkut_12_6_firstmod_ver1.ipynb\" target=\"_parent\"><img src=\"https://colab.research.google.com/assets/colab-badge.svg\" alt=\"Open In Colab\"/></a>"
      ]
    },
    {
      "cell_type": "code",
      "metadata": {
        "id": "zC2cxImypz8J"
      },
      "source": [
        "! wget https://github.com/hunorxilard/onkutfel_2020-21/blob/szili_dolga/X_pickle?raw=true\n",
        "! wget https://github.com/hunorxilard/onkutfel_2020-21/blob/szili_dolga/y_pickle?raw=true"
      ],
      "execution_count": null,
      "outputs": []
    },
    {
      "cell_type": "code",
      "metadata": {
        "id": "ZFshc56kqXQX"
      },
      "source": [
        "#files where renamed correctly"
      ],
      "execution_count": null,
      "outputs": []
    },
    {
      "cell_type": "code",
      "metadata": {
        "id": "3b6tZzUxqc8t"
      },
      "source": [
        "import tensorflow as tf\n",
        "from tensorflow.keras.models import Sequential\n",
        "from tensorflow.keras.layers import Dense, Dropout, Activation, Flatten, Conv2D, MaxPooling2D\n",
        "import numpy as np"
      ],
      "execution_count": 11,
      "outputs": []
    },
    {
      "cell_type": "code",
      "metadata": {
        "id": "NrFGJsz3q_0G"
      },
      "source": [
        "import pickle\n",
        "\n",
        "X = pickle.load(open(\"X_pickle\",\"rb\"))\n",
        "y= pickle.load(open(\"y_pickle\",\"rb\"))"
      ],
      "execution_count": 4,
      "outputs": []
    },
    {
      "cell_type": "code",
      "metadata": {
        "id": "xnMcuwlnq_3S"
      },
      "source": [
        "#normalize data\n",
        "X = X/255.0"
      ],
      "execution_count": 5,
      "outputs": []
    },
    {
      "cell_type": "code",
      "metadata": {
        "id": "yq7RTOwPq_7E"
      },
      "source": [
        "model = Sequential()\n",
        "\n",
        "model.add( Conv2D( 64, (3,3), input_shape = X.shape[1:] ) )\n",
        "model.add( Activation( \"relu\" ) )\n",
        "model.add( MaxPooling2D( pool_size = (2,2) ) )\n",
        "\n",
        "model.add( Conv2D( 64, (3,3) ) )\n",
        "model.add( Activation( \"relu\" ) )\n",
        "model.add( MaxPooling2D( pool_size = (2,2) ) )\n",
        "\n",
        "model.add( Flatten() )\n",
        "model.add( Dense(64) )\n",
        "\n",
        "model.add( Dense(1) )\n",
        "model.add( Activation( \"sigmoid\" ) )\n",
        "\n",
        "model.compile(loss = \"binary_crossentropy\",\n",
        "              optimizer = \"adam\",\n",
        "              metrics = [\"accuracy\"])"
      ],
      "execution_count": 6,
      "outputs": []
    },
    {
      "cell_type": "code",
      "metadata": {
        "id": "hAU_1XC4tkBE"
      },
      "source": [
        "y = np.asarray(y)"
      ],
      "execution_count": 12,
      "outputs": []
    },
    {
      "cell_type": "code",
      "metadata": {
        "colab": {
          "base_uri": "https://localhost:8080/"
        },
        "id": "aUxEe7ptrZhu",
        "outputId": "7d8bdaa7-b70a-4dd7-f233-97ae918e7e7b"
      },
      "source": [
        "model.fit(X, y, batch_size=32, epochs = 5, validation_split=0.1)"
      ],
      "execution_count": 15,
      "outputs": [
        {
          "output_type": "stream",
          "text": [
            "Epoch 1/5\n",
            "58/58 [==============================] - 83s 1s/step - loss: 0.6904 - accuracy: 0.5294 - val_loss: 0.6875 - val_accuracy: 0.5392\n",
            "Epoch 2/5\n",
            "58/58 [==============================] - 80s 1s/step - loss: 0.6832 - accuracy: 0.5490 - val_loss: 0.6878 - val_accuracy: 0.5294\n",
            "Epoch 3/5\n",
            "58/58 [==============================] - 80s 1s/step - loss: 0.6616 - accuracy: 0.6100 - val_loss: 0.6762 - val_accuracy: 0.5882\n",
            "Epoch 4/5\n",
            "58/58 [==============================] - 80s 1s/step - loss: 0.6043 - accuracy: 0.6808 - val_loss: 0.7302 - val_accuracy: 0.5980\n",
            "Epoch 5/5\n",
            "58/58 [==============================] - 80s 1s/step - loss: 0.5424 - accuracy: 0.7260 - val_loss: 0.7726 - val_accuracy: 0.5490\n"
          ],
          "name": "stdout"
        },
        {
          "output_type": "execute_result",
          "data": {
            "text/plain": [
              "<tensorflow.python.keras.callbacks.History at 0x7fe108c9b908>"
            ]
          },
          "metadata": {
            "tags": []
          },
          "execution_count": 15
        }
      ]
    }
  ]
}