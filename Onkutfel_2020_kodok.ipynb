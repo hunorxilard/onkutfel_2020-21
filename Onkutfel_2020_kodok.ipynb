{
  "nbformat": 4,
  "nbformat_minor": 0,
  "metadata": {
    "colab": {
      "name": "Onkutfel_2020_kodok.ipynb",
      "provenance": [],
      "authorship_tag": "ABX9TyM5/E7YNO5tXrmxdAT8PWnh",
      "include_colab_link": true
    },
    "kernelspec": {
      "name": "python3",
      "display_name": "Python 3"
    }
  },
  "cells": [
    {
      "cell_type": "markdown",
      "metadata": {
        "id": "view-in-github",
        "colab_type": "text"
      },
      "source": [
        "<a href=\"https://colab.research.google.com/github/hunorxilard/onkutfel_2020-21/blob/szili_dolga/Onkutfel_2020_kodok.ipynb\" target=\"_parent\"><img src=\"https://colab.research.google.com/assets/colab-badge.svg\" alt=\"Open In Colab\"/></a>"
      ]
    },
    {
      "cell_type": "code",
      "metadata": {
        "id": "b8wiMeBPW7A2"
      },
      "source": [
        "#downloading and unzipping images\r\n",
        "!wget https://github.com/hunorxilard/onkutfel_2020-21/blob/main/real_and_fake_face_small.zip?raw=True\r\n",
        "!wget https://github.com/hunorxilard/onkutfel_2020-21/blob/main/half_test.zip?raw=True\r\n",
        "!unzip ./half_test.zip?raw=True\r\n",
        "!unzip ./real_and_fake_face_small.zip?raw=True"
      ],
      "execution_count": null,
      "outputs": []
    },
    {
      "cell_type": "code",
      "metadata": {
        "id": "yHyzsoKOXJ50"
      },
      "source": [
        "#initializing for preprocessing\r\n",
        "import numpy as np\r\n",
        "import matplotlib.pyplot as plt\r\n",
        "import os\r\n",
        "import cv2\r\n",
        "import random"
      ],
      "execution_count": null,
      "outputs": []
    },
    {
      "cell_type": "code",
      "metadata": {
        "id": "kSoZALClXO7D"
      },
      "source": [
        "#transfer images into useable training data\r\n",
        "training_data = []\r\n",
        "\r\n",
        "def create_training_data():\r\n",
        "  for category in CATEGORIES:\r\n",
        "    path=os.path.join(DATADIR,category)\r\n",
        "    class_num = CATEGORIES.index(category)\r\n",
        "    for img in os.listdir(path):\r\n",
        "      img_array = cv2.imread(os.path.join(path,img),cv2.IMREAD_GRAYSCALE)\r\n",
        "      training_data.append([img_array,class_num])\r\n",
        "\r\n",
        "DATADIR = \"/content/real_and_fake_face_small\" #ez collabon mukodik, at kell irni, ha desktopon kell futtatni\r\n",
        "CATEGORIES = [\"training_fake\",\"training_real\"]\r\n",
        "#DATADIR = \"/content/half_test\"\r\n",
        "#CATEGORIES = [\"fake\",\"real\"]\r\n",
        "\r\n",
        "training_data = []\r\n",
        "create_training_data()\r\n",
        "random.shuffle(training_data)\r\n",
        "\r\n",
        "X=[]\r\n",
        "y=[]\r\n",
        "\r\n",
        "for features, label in training_data:\r\n",
        "  X.append(features)\r\n",
        "  y.append(label)\r\n",
        "\r\n",
        "X=np.array().reshape(-1,150,150,1) #a tf ilyen formatumban fogad el\r\n",
        "\r\n",
        "#normalize data\r\n",
        "X = X/255.0\r\n",
        "y = np.asarray(y) #ez nem normalizalas, a tf csak ezt a formatumot fogadja el"
      ],
      "execution_count": null,
      "outputs": []
    },
    {
      "cell_type": "code",
      "metadata": {
        "id": "1fxWcaz4Y5sR"
      },
      "source": [
        "#initialize for training\r\n",
        "import tensorflow as tf\r\n",
        "from tensorflow.keras.models import Sequential\r\n",
        "from tensorflow.keras.layers import Dense, Dropout, Activation, Flatten, Conv2D, MaxPooling2D\r\n",
        "import numpy as np\r\n",
        "import datetime, os\r\n",
        "\r\n",
        "#set up tensorboard\r\n",
        "%load_ext tensorboard"
      ],
      "execution_count": null,
      "outputs": []
    },
    {
      "cell_type": "code",
      "metadata": {
        "id": "5iVaB_BJZAJc"
      },
      "source": [
        "#start tensorboard\r\n",
        "%tensorboard --logdir logs #ezen belul lefrissitve nyomon lehet kovetni a tanulast"
      ],
      "execution_count": null,
      "outputs": []
    },
    {
      "cell_type": "code",
      "metadata": {
        "id": "7JbaPvcHZOPY"
      },
      "source": [
        "#optimizing method\r\n",
        "dense_layers = [0,1]\r\n",
        "layer_sizes = [32]\r\n",
        "conv_layers = [2] #ezek a hiperparameterek, amik atirandok\r\n",
        "\r\n",
        "for conv_layer in conv_layers:\r\n",
        "  for layer_size in layer_sizes:\r\n",
        "    for dense_layer in dense_layers:\r\n",
        "      logdir = os.path.join(\"logs\", \"{}-conv-{}-nodes-{}-dense\".format(conv_layer, layer_size, dense_layer))\r\n",
        "      tensorboard_callback = tf.keras.callbacks.TensorBoard(logdir, histogram_freq=1)\r\n",
        "      \r\n",
        "      model = Sequential()\r\n",
        "#konvolucios retegek pooling-al:\r\n",
        "      model.add( Conv2D( layer_size, (3,3), input_shape = X_shape[1:] ) )\r\n",
        "      model.add( Activation( \"relu\" ) )\r\n",
        "      model.add( MaxPooling2D( pool_size = (2,2) ) )\r\n",
        "\r\n",
        "      for l in range(conv_layer-1):\r\n",
        "        model.add( Conv2D( layer_size, (3,3) ) )\r\n",
        "        model.add( Activation( \"relu\" ) )\r\n",
        "        model.add( MaxPooling2D( pool_size = (2,2) ) )\r\n",
        "#lapositas a suru retegeknek:\r\n",
        "      model.add( Flatten() )\r\n",
        "#suru retegek:\r\n",
        "      for l in range(dense_layer):\r\n",
        "        model.add( Dense(256) )\r\n",
        "        model.add( Activation(\"relu\") )\r\n",
        "        model.add( Dropout(0.2) )\r\n",
        "#output reteg:\r\n",
        "      model.add( Dense(1) )\r\n",
        "      model.add( Activation( \"sigmoid\" ) )\r\n",
        "#optimalizalasi parameterek:\r\n",
        "      model.compile(loss = \"binary_crossentropy\",\r\n",
        "                      optimizer = \"adam\",\r\n",
        "                      metrics = [\"accuracy\"])\r\n",
        "      model.fit(X, y, batch_size=32, epochs = 6, validation_split=0.15, callbacks=[tensorboard_callback])"
      ],
      "execution_count": null,
      "outputs": []
    },
    {
      "cell_type": "code",
      "metadata": {
        "id": "oTCbOC-zZ1eN"
      },
      "source": [
        "#save and load model weights:\r\n",
        "model.save_weights('./final_model_weights')\r\n",
        "#model = create_model\r\n",
        "#model.load_weights(\"./final_model_weights\")"
      ],
      "execution_count": null,
      "outputs": []
    },
    {
      "cell_type": "code",
      "metadata": {
        "id": "McmGXOUhcUt1"
      },
      "source": [
        ""
      ],
      "execution_count": null,
      "outputs": []
    },
    {
      "cell_type": "code",
      "metadata": {
        "id": "CzPsFfmucrem"
      },
      "source": [
        ""
      ],
      "execution_count": null,
      "outputs": []
    }
  ]
}