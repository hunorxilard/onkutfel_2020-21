{
  "nbformat": 4,
  "nbformat_minor": 0,
  "metadata": {
    "colab": {
      "name": "GAN_photoshop_teszt.ipynb",
      "provenance": [],
      "authorship_tag": "ABX9TyMRMp5z081HVzr8UQOLk3aI",
      "include_colab_link": true
    },
    "kernelspec": {
      "name": "python3",
      "display_name": "Python 3"
    }
  },
  "cells": [
    {
      "cell_type": "markdown",
      "metadata": {
        "id": "view-in-github",
        "colab_type": "text"
      },
      "source": [
        "<a href=\"https://colab.research.google.com/github/hunorxilard/onkutfel_2020-21/blob/szili_dolga/GAN_photoshop_teszt.ipynb\" target=\"_parent\"><img src=\"https://colab.research.google.com/assets/colab-badge.svg\" alt=\"Open In Colab\"/></a>"
      ]
    },
    {
      "cell_type": "code",
      "metadata": {
        "id": "bixbWS_byXro"
      },
      "source": [
        "!wget https://github.com/hunorxilard/onkutfel_2020-21/blob/main/big_opt.h5?raw=True\r\n",
        "!wget https://github.com/hunorxilard/onkutfel_2020-21/blob/main/real_and_fake_face_small.zip?raw=True\r\n",
        "!unzip ./real_and_fake_face_small.zip?raw=True"
      ],
      "execution_count": null,
      "outputs": []
    },
    {
      "cell_type": "code",
      "metadata": {
        "id": "92PA63dywRJk"
      },
      "source": [
        "import numpy as np\r\n",
        "import matplotlib.pyplot as plt\r\n",
        "import os\r\n",
        "import cv2"
      ],
      "execution_count": 2,
      "outputs": []
    },
    {
      "cell_type": "code",
      "metadata": {
        "id": "0ZWc4b9zyrtj"
      },
      "source": [
        "DATADIR = \"/content/real_and_fake_face_small/\"\r\n",
        "CATEGORIES = [\"training_fake\",\"training_real\"]\r\n",
        "\r\n",
        "training_data = []\r\n",
        "\r\n",
        "def create_training_data():\r\n",
        "  for category in CATEGORIES:\r\n",
        "    path=os.path.join(DATADIR,category)\r\n",
        "    class_num = CATEGORIES.index(category)\r\n",
        "    for img in os.listdir(path):\r\n",
        "      img_array = cv2.imread(os.path.join(path,img),cv2.IMREAD_GRAYSCALE)\r\n",
        "      training_data.append([img_array,class_num])\r\n",
        "\r\n",
        "create_training_data()"
      ],
      "execution_count": 3,
      "outputs": []
    },
    {
      "cell_type": "code",
      "metadata": {
        "id": "00RpVCppyzEL"
      },
      "source": [
        "import random\r\n",
        "\r\n",
        "random.shuffle(training_data)\r\n",
        "test_data = training_data[:500]"
      ],
      "execution_count": 4,
      "outputs": []
    },
    {
      "cell_type": "code",
      "metadata": {
        "id": "oVugXgApy-IS"
      },
      "source": [
        "X_test=[]\r\n",
        "y_test=[]\r\n",
        "for features, label in test_data:\r\n",
        "  X_test.append(features)\r\n",
        "  y_test.append(label)\r\n",
        "X_test=np.array(X_test).reshape(-1,150,150,1)\r\n",
        "y_test = np.asarray(y_test)"
      ],
      "execution_count": 5,
      "outputs": []
    },
    {
      "cell_type": "code",
      "metadata": {
        "id": "lMbKRlrTzEh6"
      },
      "source": [
        "import tensorflow as tf\r\n",
        "\r\n",
        "model = tf.keras.models.load_model('big_opt.h5?raw=True')"
      ],
      "execution_count": 6,
      "outputs": []
    },
    {
      "cell_type": "code",
      "metadata": {
        "colab": {
          "base_uri": "https://localhost:8080/"
        },
        "id": "h2HyO5UGz8L9",
        "outputId": "5b6035c9-ec6a-4652-a6a1-f45ffa168e68"
      },
      "source": [
        "model.summary()"
      ],
      "execution_count": 7,
      "outputs": [
        {
          "output_type": "stream",
          "text": [
            "Model: \"sequential_4\"\n",
            "_________________________________________________________________\n",
            "Layer (type)                 Output Shape              Param #   \n",
            "=================================================================\n",
            "conv2d_7 (Conv2D)            (None, 148, 148, 64)      640       \n",
            "_________________________________________________________________\n",
            "activation_11 (Activation)   (None, 148, 148, 64)      0         \n",
            "_________________________________________________________________\n",
            "max_pooling2d_7 (MaxPooling2 (None, 74, 74, 64)        0         \n",
            "_________________________________________________________________\n",
            "flatten_4 (Flatten)          (None, 350464)            0         \n",
            "_________________________________________________________________\n",
            "dense_4 (Dense)              (None, 1)                 350465    \n",
            "_________________________________________________________________\n",
            "activation_12 (Activation)   (None, 1)                 0         \n",
            "=================================================================\n",
            "Total params: 351,105\n",
            "Trainable params: 351,105\n",
            "Non-trainable params: 0\n",
            "_________________________________________________________________\n"
          ],
          "name": "stdout"
        }
      ]
    },
    {
      "cell_type": "code",
      "metadata": {
        "id": "ahsWhEtHzrmO"
      },
      "source": [
        "prediction = model.predict(X_test)"
      ],
      "execution_count": 8,
      "outputs": []
    },
    {
      "cell_type": "code",
      "metadata": {
        "colab": {
          "base_uri": "https://localhost:8080/"
        },
        "id": "T_pc0AGizvTk",
        "outputId": "c37d4e27-1e3a-48c7-c32b-ab3d43ae2024"
      },
      "source": [
        "pred = []\r\n",
        "for i in range(len(prediction)):\r\n",
        "  if prediction[i][0] <0.5:\r\n",
        "    pred.append(0)\r\n",
        "  else:\r\n",
        "    pred.append(1) \r\n",
        "\r\n",
        "print(sum(abs(y_test - pred))/len(y_test))"
      ],
      "execution_count": 9,
      "outputs": [
        {
          "output_type": "stream",
          "text": [
            "0.492\n"
          ],
          "name": "stdout"
        }
      ]
    }
  ]
}